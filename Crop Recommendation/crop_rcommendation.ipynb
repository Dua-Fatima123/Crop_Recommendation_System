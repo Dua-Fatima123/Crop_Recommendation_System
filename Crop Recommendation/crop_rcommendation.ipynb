{
 "cells": [
  {
   "cell_type": "code",
   "execution_count": 30,
   "id": "0005e135",
   "metadata": {},
   "outputs": [],
   "source": [
    "import pandas as pd\n",
    "import numpy as np\n",
    "from sklearn.preprocessing import LabelEncoder, StandardScaler\n",
    "from sklearn.model_selection import train_test_split\n",
    "from tensorflow.keras.models import Sequential\n",
    "from tensorflow.keras.layers import Dense\n",
    "from tensorflow.keras.utils import to_categorical"
   ]
  },
  {
   "cell_type": "code",
   "execution_count": 31,
   "id": "86070f3f",
   "metadata": {},
   "outputs": [],
   "source": [
    "df = pd.read_csv(\"Crop_recommendation.csv\")"
   ]
  },
  {
   "cell_type": "code",
   "execution_count": 32,
   "id": "7da8f92c",
   "metadata": {},
   "outputs": [
    {
     "data": {
      "text/html": [
       "<div>\n",
       "<style scoped>\n",
       "    .dataframe tbody tr th:only-of-type {\n",
       "        vertical-align: middle;\n",
       "    }\n",
       "\n",
       "    .dataframe tbody tr th {\n",
       "        vertical-align: top;\n",
       "    }\n",
       "\n",
       "    .dataframe thead th {\n",
       "        text-align: right;\n",
       "    }\n",
       "</style>\n",
       "<table border=\"1\" class=\"dataframe\">\n",
       "  <thead>\n",
       "    <tr style=\"text-align: right;\">\n",
       "      <th></th>\n",
       "      <th>N</th>\n",
       "      <th>P</th>\n",
       "      <th>K</th>\n",
       "      <th>temperature</th>\n",
       "      <th>humidity</th>\n",
       "      <th>ph</th>\n",
       "      <th>rainfall</th>\n",
       "      <th>label</th>\n",
       "    </tr>\n",
       "  </thead>\n",
       "  <tbody>\n",
       "    <tr>\n",
       "      <th>0</th>\n",
       "      <td>90</td>\n",
       "      <td>42</td>\n",
       "      <td>43</td>\n",
       "      <td>20.879744</td>\n",
       "      <td>82.002744</td>\n",
       "      <td>6.502985</td>\n",
       "      <td>202.935536</td>\n",
       "      <td>rice</td>\n",
       "    </tr>\n",
       "    <tr>\n",
       "      <th>1</th>\n",
       "      <td>85</td>\n",
       "      <td>58</td>\n",
       "      <td>41</td>\n",
       "      <td>21.770462</td>\n",
       "      <td>80.319644</td>\n",
       "      <td>7.038096</td>\n",
       "      <td>226.655537</td>\n",
       "      <td>rice</td>\n",
       "    </tr>\n",
       "    <tr>\n",
       "      <th>2</th>\n",
       "      <td>60</td>\n",
       "      <td>55</td>\n",
       "      <td>44</td>\n",
       "      <td>23.004459</td>\n",
       "      <td>82.320763</td>\n",
       "      <td>7.840207</td>\n",
       "      <td>263.964248</td>\n",
       "      <td>rice</td>\n",
       "    </tr>\n",
       "    <tr>\n",
       "      <th>3</th>\n",
       "      <td>74</td>\n",
       "      <td>35</td>\n",
       "      <td>40</td>\n",
       "      <td>26.491096</td>\n",
       "      <td>80.158363</td>\n",
       "      <td>6.980401</td>\n",
       "      <td>242.864034</td>\n",
       "      <td>rice</td>\n",
       "    </tr>\n",
       "    <tr>\n",
       "      <th>4</th>\n",
       "      <td>78</td>\n",
       "      <td>42</td>\n",
       "      <td>42</td>\n",
       "      <td>20.130175</td>\n",
       "      <td>81.604873</td>\n",
       "      <td>7.628473</td>\n",
       "      <td>262.717340</td>\n",
       "      <td>rice</td>\n",
       "    </tr>\n",
       "  </tbody>\n",
       "</table>\n",
       "</div>"
      ],
      "text/plain": [
       "    N   P   K  temperature   humidity        ph    rainfall label\n",
       "0  90  42  43    20.879744  82.002744  6.502985  202.935536  rice\n",
       "1  85  58  41    21.770462  80.319644  7.038096  226.655537  rice\n",
       "2  60  55  44    23.004459  82.320763  7.840207  263.964248  rice\n",
       "3  74  35  40    26.491096  80.158363  6.980401  242.864034  rice\n",
       "4  78  42  42    20.130175  81.604873  7.628473  262.717340  rice"
      ]
     },
     "execution_count": 32,
     "metadata": {},
     "output_type": "execute_result"
    }
   ],
   "source": [
    "df.head()"
   ]
  },
  {
   "cell_type": "code",
   "execution_count": 33,
   "id": "e412d611",
   "metadata": {},
   "outputs": [
    {
     "data": {
      "text/html": [
       "<div>\n",
       "<style scoped>\n",
       "    .dataframe tbody tr th:only-of-type {\n",
       "        vertical-align: middle;\n",
       "    }\n",
       "\n",
       "    .dataframe tbody tr th {\n",
       "        vertical-align: top;\n",
       "    }\n",
       "\n",
       "    .dataframe thead th {\n",
       "        text-align: right;\n",
       "    }\n",
       "</style>\n",
       "<table border=\"1\" class=\"dataframe\">\n",
       "  <thead>\n",
       "    <tr style=\"text-align: right;\">\n",
       "      <th></th>\n",
       "      <th>N</th>\n",
       "      <th>P</th>\n",
       "      <th>K</th>\n",
       "      <th>temperature</th>\n",
       "      <th>humidity</th>\n",
       "      <th>ph</th>\n",
       "      <th>rainfall</th>\n",
       "      <th>label</th>\n",
       "    </tr>\n",
       "  </thead>\n",
       "  <tbody>\n",
       "    <tr>\n",
       "      <th>2195</th>\n",
       "      <td>107</td>\n",
       "      <td>34</td>\n",
       "      <td>32</td>\n",
       "      <td>26.774637</td>\n",
       "      <td>66.413269</td>\n",
       "      <td>6.780064</td>\n",
       "      <td>177.774507</td>\n",
       "      <td>coffee</td>\n",
       "    </tr>\n",
       "    <tr>\n",
       "      <th>2196</th>\n",
       "      <td>99</td>\n",
       "      <td>15</td>\n",
       "      <td>27</td>\n",
       "      <td>27.417112</td>\n",
       "      <td>56.636362</td>\n",
       "      <td>6.086922</td>\n",
       "      <td>127.924610</td>\n",
       "      <td>coffee</td>\n",
       "    </tr>\n",
       "    <tr>\n",
       "      <th>2197</th>\n",
       "      <td>118</td>\n",
       "      <td>33</td>\n",
       "      <td>30</td>\n",
       "      <td>24.131797</td>\n",
       "      <td>67.225123</td>\n",
       "      <td>6.362608</td>\n",
       "      <td>173.322839</td>\n",
       "      <td>coffee</td>\n",
       "    </tr>\n",
       "    <tr>\n",
       "      <th>2198</th>\n",
       "      <td>117</td>\n",
       "      <td>32</td>\n",
       "      <td>34</td>\n",
       "      <td>26.272418</td>\n",
       "      <td>52.127394</td>\n",
       "      <td>6.758793</td>\n",
       "      <td>127.175293</td>\n",
       "      <td>coffee</td>\n",
       "    </tr>\n",
       "    <tr>\n",
       "      <th>2199</th>\n",
       "      <td>104</td>\n",
       "      <td>18</td>\n",
       "      <td>30</td>\n",
       "      <td>23.603016</td>\n",
       "      <td>60.396475</td>\n",
       "      <td>6.779833</td>\n",
       "      <td>140.937041</td>\n",
       "      <td>coffee</td>\n",
       "    </tr>\n",
       "  </tbody>\n",
       "</table>\n",
       "</div>"
      ],
      "text/plain": [
       "        N   P   K  temperature   humidity        ph    rainfall   label\n",
       "2195  107  34  32    26.774637  66.413269  6.780064  177.774507  coffee\n",
       "2196   99  15  27    27.417112  56.636362  6.086922  127.924610  coffee\n",
       "2197  118  33  30    24.131797  67.225123  6.362608  173.322839  coffee\n",
       "2198  117  32  34    26.272418  52.127394  6.758793  127.175293  coffee\n",
       "2199  104  18  30    23.603016  60.396475  6.779833  140.937041  coffee"
      ]
     },
     "execution_count": 33,
     "metadata": {},
     "output_type": "execute_result"
    }
   ],
   "source": [
    "df.tail()"
   ]
  },
  {
   "cell_type": "code",
   "execution_count": 34,
   "id": "efba8d7c",
   "metadata": {},
   "outputs": [],
   "source": [
    "X = df.drop(\"label\", axis=1)\n",
    "y = df[\"label\"]\n"
   ]
  },
  {
   "cell_type": "code",
   "execution_count": 35,
   "id": "0c5cf6bf",
   "metadata": {},
   "outputs": [],
   "source": [
    "le = LabelEncoder()\n",
    "y_encoded = le.fit_transform(y)\n",
    "y_categorical = to_categorical(y_encoded)"
   ]
  },
  {
   "cell_type": "code",
   "execution_count": 36,
   "id": "bb69f70c",
   "metadata": {},
   "outputs": [],
   "source": [
    "scaler = StandardScaler()\n",
    "X_scaled = scaler.fit_transform(X)"
   ]
  },
  {
   "cell_type": "code",
   "execution_count": 37,
   "id": "646beb5a",
   "metadata": {},
   "outputs": [],
   "source": [
    "X_train, X_test, y_train, y_test = train_test_split(X_scaled, y_categorical, test_size=0.2, random_state=42)"
   ]
  },
  {
   "cell_type": "code",
   "execution_count": 38,
   "id": "3c12f119",
   "metadata": {},
   "outputs": [],
   "source": [
    "model = Sequential([\n",
    "    Dense(128, input_shape=(X.shape[1],), activation='relu'),\n",
    "    Dense(64, activation='relu'),\n",
    "    Dense(32, activation='relu'),\n",
    "    Dense(y_categorical.shape[1], activation='softmax')  # Output neurons = number of crops\n",
    "])"
   ]
  },
  {
   "cell_type": "code",
   "execution_count": 39,
   "id": "bb132419",
   "metadata": {},
   "outputs": [],
   "source": [
    "model.compile(optimizer='adam', loss='categorical_crossentropy', metrics=['accuracy'])"
   ]
  },
  {
   "cell_type": "code",
   "execution_count": 40,
   "id": "7d5dfe09",
   "metadata": {},
   "outputs": [
    {
     "name": "stdout",
     "output_type": "stream",
     "text": [
      "Epoch 1/50\n",
      "99/99 [==============================] - 1s 8ms/step - loss: 2.4091 - accuracy: 0.3952 - val_loss: 1.3657 - val_accuracy: 0.6364\n",
      "Epoch 2/50\n",
      "99/99 [==============================] - 0s 4ms/step - loss: 0.8115 - accuracy: 0.7765 - val_loss: 0.5073 - val_accuracy: 0.8352\n",
      "Epoch 3/50\n",
      "99/99 [==============================] - 0s 4ms/step - loss: 0.3224 - accuracy: 0.9135 - val_loss: 0.2651 - val_accuracy: 0.9205\n",
      "Epoch 4/50\n",
      "99/99 [==============================] - 0s 4ms/step - loss: 0.1934 - accuracy: 0.9482 - val_loss: 0.2134 - val_accuracy: 0.9261\n",
      "Epoch 5/50\n",
      "99/99 [==============================] - 0s 5ms/step - loss: 0.1415 - accuracy: 0.9596 - val_loss: 0.1397 - val_accuracy: 0.9602\n",
      "Epoch 6/50\n",
      "99/99 [==============================] - 0s 5ms/step - loss: 0.1170 - accuracy: 0.9659 - val_loss: 0.1490 - val_accuracy: 0.9489\n",
      "Epoch 7/50\n",
      "99/99 [==============================] - 0s 4ms/step - loss: 0.0910 - accuracy: 0.9710 - val_loss: 0.0968 - val_accuracy: 0.9602\n",
      "Epoch 8/50\n",
      "99/99 [==============================] - 0s 4ms/step - loss: 0.0785 - accuracy: 0.9760 - val_loss: 0.0713 - val_accuracy: 0.9830\n",
      "Epoch 9/50\n",
      "99/99 [==============================] - 0s 4ms/step - loss: 0.0665 - accuracy: 0.9817 - val_loss: 0.0792 - val_accuracy: 0.9773\n",
      "Epoch 10/50\n",
      "99/99 [==============================] - 0s 4ms/step - loss: 0.0619 - accuracy: 0.9823 - val_loss: 0.0690 - val_accuracy: 0.9773\n",
      "Epoch 11/50\n",
      "99/99 [==============================] - 0s 3ms/step - loss: 0.0672 - accuracy: 0.9741 - val_loss: 0.0669 - val_accuracy: 0.9716\n",
      "Epoch 12/50\n",
      "99/99 [==============================] - 0s 3ms/step - loss: 0.0559 - accuracy: 0.9792 - val_loss: 0.1151 - val_accuracy: 0.9545\n",
      "Epoch 13/50\n",
      "99/99 [==============================] - 0s 2ms/step - loss: 0.0532 - accuracy: 0.9830 - val_loss: 0.0571 - val_accuracy: 0.9773\n",
      "Epoch 14/50\n",
      "99/99 [==============================] - 0s 2ms/step - loss: 0.0457 - accuracy: 0.9867 - val_loss: 0.0573 - val_accuracy: 0.9716\n",
      "Epoch 15/50\n",
      "99/99 [==============================] - 0s 2ms/step - loss: 0.0496 - accuracy: 0.9842 - val_loss: 0.0459 - val_accuracy: 0.9773\n",
      "Epoch 16/50\n",
      "99/99 [==============================] - 0s 2ms/step - loss: 0.0430 - accuracy: 0.9830 - val_loss: 0.0576 - val_accuracy: 0.9773\n",
      "Epoch 17/50\n",
      "99/99 [==============================] - 0s 2ms/step - loss: 0.0474 - accuracy: 0.9798 - val_loss: 0.0421 - val_accuracy: 0.9830\n",
      "Epoch 18/50\n",
      "99/99 [==============================] - 0s 2ms/step - loss: 0.0349 - accuracy: 0.9874 - val_loss: 0.0366 - val_accuracy: 0.9943\n",
      "Epoch 19/50\n",
      "99/99 [==============================] - 0s 2ms/step - loss: 0.0422 - accuracy: 0.9830 - val_loss: 0.0764 - val_accuracy: 0.9659\n",
      "Epoch 20/50\n",
      "99/99 [==============================] - 0s 2ms/step - loss: 0.0336 - accuracy: 0.9886 - val_loss: 0.0361 - val_accuracy: 0.9830\n",
      "Epoch 21/50\n",
      "99/99 [==============================] - 0s 2ms/step - loss: 0.0312 - accuracy: 0.9886 - val_loss: 0.0538 - val_accuracy: 0.9830\n",
      "Epoch 22/50\n",
      "99/99 [==============================] - 0s 2ms/step - loss: 0.0304 - accuracy: 0.9893 - val_loss: 0.0463 - val_accuracy: 0.9773\n",
      "Epoch 23/50\n",
      "99/99 [==============================] - 0s 2ms/step - loss: 0.0321 - accuracy: 0.9867 - val_loss: 0.0425 - val_accuracy: 0.9773\n",
      "Epoch 24/50\n",
      "99/99 [==============================] - 0s 2ms/step - loss: 0.0276 - accuracy: 0.9918 - val_loss: 0.0880 - val_accuracy: 0.9716\n",
      "Epoch 25/50\n",
      "99/99 [==============================] - 0s 2ms/step - loss: 0.0336 - accuracy: 0.9874 - val_loss: 0.0293 - val_accuracy: 0.9886\n",
      "Epoch 26/50\n",
      "99/99 [==============================] - 0s 2ms/step - loss: 0.0293 - accuracy: 0.9899 - val_loss: 0.0381 - val_accuracy: 0.9773\n",
      "Epoch 27/50\n",
      "99/99 [==============================] - 0s 2ms/step - loss: 0.0292 - accuracy: 0.9886 - val_loss: 0.0991 - val_accuracy: 0.9716\n",
      "Epoch 28/50\n",
      "99/99 [==============================] - 0s 3ms/step - loss: 0.0302 - accuracy: 0.9874 - val_loss: 0.0480 - val_accuracy: 0.9773\n",
      "Epoch 29/50\n",
      "99/99 [==============================] - 0s 3ms/step - loss: 0.0268 - accuracy: 0.9899 - val_loss: 0.0345 - val_accuracy: 0.9886\n",
      "Epoch 30/50\n",
      "99/99 [==============================] - 0s 2ms/step - loss: 0.0226 - accuracy: 0.9924 - val_loss: 0.0517 - val_accuracy: 0.9830\n",
      "Epoch 31/50\n",
      "99/99 [==============================] - 0s 2ms/step - loss: 0.0247 - accuracy: 0.9905 - val_loss: 0.0498 - val_accuracy: 0.9716\n",
      "Epoch 32/50\n",
      "99/99 [==============================] - 0s 2ms/step - loss: 0.0244 - accuracy: 0.9912 - val_loss: 0.0220 - val_accuracy: 0.9886\n",
      "Epoch 33/50\n",
      "99/99 [==============================] - 0s 2ms/step - loss: 0.0203 - accuracy: 0.9937 - val_loss: 0.0233 - val_accuracy: 0.9830\n",
      "Epoch 34/50\n",
      "99/99 [==============================] - 0s 2ms/step - loss: 0.0199 - accuracy: 0.9937 - val_loss: 0.0472 - val_accuracy: 0.9830\n",
      "Epoch 35/50\n",
      "99/99 [==============================] - 0s 2ms/step - loss: 0.0409 - accuracy: 0.9848 - val_loss: 0.0319 - val_accuracy: 0.9886\n",
      "Epoch 36/50\n",
      "99/99 [==============================] - 0s 2ms/step - loss: 0.0454 - accuracy: 0.9848 - val_loss: 0.0523 - val_accuracy: 0.9773\n",
      "Epoch 37/50\n",
      "99/99 [==============================] - 0s 2ms/step - loss: 0.0286 - accuracy: 0.9899 - val_loss: 0.0196 - val_accuracy: 0.9943\n",
      "Epoch 38/50\n",
      "99/99 [==============================] - 0s 2ms/step - loss: 0.0264 - accuracy: 0.9899 - val_loss: 0.0460 - val_accuracy: 0.9773\n",
      "Epoch 39/50\n",
      "99/99 [==============================] - 0s 2ms/step - loss: 0.0243 - accuracy: 0.9899 - val_loss: 0.0441 - val_accuracy: 0.9773\n",
      "Epoch 40/50\n",
      "99/99 [==============================] - 0s 2ms/step - loss: 0.0179 - accuracy: 0.9931 - val_loss: 0.0227 - val_accuracy: 0.9943\n",
      "Epoch 41/50\n",
      "99/99 [==============================] - 0s 2ms/step - loss: 0.0145 - accuracy: 0.9943 - val_loss: 0.0233 - val_accuracy: 0.9886\n",
      "Epoch 42/50\n",
      "99/99 [==============================] - 0s 2ms/step - loss: 0.0182 - accuracy: 0.9937 - val_loss: 0.0171 - val_accuracy: 0.9886\n",
      "Epoch 43/50\n",
      "99/99 [==============================] - 0s 2ms/step - loss: 0.0175 - accuracy: 0.9924 - val_loss: 0.0246 - val_accuracy: 0.9886\n",
      "Epoch 44/50\n",
      "99/99 [==============================] - 0s 3ms/step - loss: 0.0147 - accuracy: 0.9962 - val_loss: 0.0434 - val_accuracy: 0.9886\n",
      "Epoch 45/50\n",
      "99/99 [==============================] - 0s 3ms/step - loss: 0.0216 - accuracy: 0.9912 - val_loss: 0.0300 - val_accuracy: 0.9886\n",
      "Epoch 46/50\n",
      "99/99 [==============================] - 0s 3ms/step - loss: 0.0146 - accuracy: 0.9949 - val_loss: 0.0179 - val_accuracy: 1.0000\n",
      "Epoch 47/50\n",
      "99/99 [==============================] - 0s 3ms/step - loss: 0.0139 - accuracy: 0.9949 - val_loss: 0.0193 - val_accuracy: 0.9886\n",
      "Epoch 48/50\n",
      "99/99 [==============================] - 0s 3ms/step - loss: 0.0143 - accuracy: 0.9931 - val_loss: 0.0323 - val_accuracy: 0.9886\n",
      "Epoch 49/50\n",
      "99/99 [==============================] - 0s 3ms/step - loss: 0.0145 - accuracy: 0.9949 - val_loss: 0.0191 - val_accuracy: 0.9943\n",
      "Epoch 50/50\n",
      "99/99 [==============================] - 0s 3ms/step - loss: 0.0137 - accuracy: 0.9949 - val_loss: 0.0397 - val_accuracy: 0.9773\n"
     ]
    }
   ],
   "source": [
    "history=model.fit(X_train, y_train, epochs=50, batch_size=16, validation_split=0.1)\n"
   ]
  },
  {
   "cell_type": "code",
   "execution_count": 41,
   "id": "7fc48acb",
   "metadata": {},
   "outputs": [
    {
     "name": "stdout",
     "output_type": "stream",
     "text": [
      "14/14 [==============================] - 0s 2ms/step - loss: 0.0884 - accuracy: 0.9750\n",
      "Test Accuracy: 97.50%\n"
     ]
    }
   ],
   "source": [
    "loss, accuracy = model.evaluate(X_test, y_test)\n",
    "print(f\"Test Accuracy: {accuracy * 100:.2f}%\")"
   ]
  },
  {
   "cell_type": "code",
   "execution_count": 42,
   "id": "a83b9f35",
   "metadata": {},
   "outputs": [
    {
     "name": "stdout",
     "output_type": "stream",
     "text": [
      "14/14 [==============================] - 0s 2ms/step\n"
     ]
    }
   ],
   "source": [
    "y_pred = model.predict(X_test)\n",
    "predicted_classes = le.inverse_transform(np.argmax(y_pred, axis=1))"
   ]
  },
  {
   "cell_type": "code",
   "execution_count": 43,
   "id": "1cb9ae78",
   "metadata": {},
   "outputs": [
    {
     "data": {
      "image/png": "[encoded data removed]",
      "text/plain": [
       "<Figure size 640x480 with 1 Axes>"
      ]
     },
     "metadata": {},
     "output_type": "display_data"
    },
    {
     "data": {
      "image/png": "[encoded data removed]",
      "text/plain": [
       "<Figure size 640x480 with 1 Axes>"
      ]
     },
     "metadata": {},
     "output_type": "display_data"
    }
   ],
   "source": [
    "import matplotlib.pyplot as plt\n",
    "\n",
    "\n",
    "# Accuracy Plot\n",
    "plt.plot(history.history['accuracy'], label='Training Accuracy')\n",
    "plt.plot(history.history['val_accuracy'], label='Validation Accuracy')\n",
    "plt.title('Model Accuracy Over Epochs')\n",
    "plt.xlabel('Epoch')\n",
    "plt.ylabel('Accuracy')\n",
    "plt.legend()\n",
    "plt.grid(True)\n",
    "plt.show()\n",
    "\n",
    "# Loss Plot\n",
    "plt.plot(history.history['loss'], label='Training Loss')\n",
    "plt.plot(history.history['val_loss'], label='Validation Loss')\n",
    "plt.title('Model Loss Over Epochs')\n",
    "plt.xlabel('Epoch')\n",
    "plt.ylabel('Loss')\n",
    "plt.legend()\n",
    "plt.grid(True)\n",
    "plt.show()\n"
   ]
  },
  {
   "cell_type": "code",
   "execution_count": 44,
   "id": "cd03c1dc",
   "metadata": {},
   "outputs": [
    {
     "name": "stdout",
     "output_type": "stream",
     "text": [
      "14/14 [==============================] - 0s 2ms/step\n",
      "Actual: muskmelon  ---> Predicted: muskmelon\n",
      "Actual: watermelon  ---> Predicted: watermelon\n",
      "Actual: papaya  ---> Predicted: papaya\n",
      "Actual: papaya  ---> Predicted: papaya\n",
      "Actual: apple  ---> Predicted: apple\n",
      "Actual: mango  ---> Predicted: mango\n",
      "Actual: apple  ---> Predicted: apple\n",
      "Actual: mothbeans  ---> Predicted: mothbeans\n",
      "Actual: mungbean  ---> Predicted: mungbean\n",
      "Actual: lentil  ---> Predicted: lentil\n"
     ]
    }
   ],
   "source": [
    "# Predict on X_test (seen data)\n",
    "y_pred_test = model.predict(X_test)\n",
    "pred_classes = le.inverse_transform(np.argmax(y_pred_test, axis=1))\n",
    "actual_classes = le.inverse_transform(np.argmax(y_test, axis=1))\n",
    "\n",
    "# Display first 10 predictions vs actual\n",
    "for i in range(10):\n",
    "    print(f\"Actual: {actual_classes[i]}  ---> Predicted: {pred_classes[i]}\")\n"
   ]
  },
  {
   "cell_type": "code",
   "execution_count": 49,
   "id": "51494c5d",
   "metadata": {},
   "outputs": [
    {
     "name": "stdout",
     "output_type": "stream",
     "text": [
      "1/1 [==============================] - 0s 48ms/step\n",
      "Recommended Crop: rice\n"
     ]
    },
    {
     "name": "stderr",
     "output_type": "stream",
     "text": [
      "c:\\Users\\Farhan Bukhari\\anaconda3\\envs\\tensorflow\\lib\\site-packages\\sklearn\\utils\\validation.py:2739: UserWarning: X does not have valid feature names, but StandardScaler was fitted with feature names\n",
      "  warnings.warn(\n"
     ]
    }
   ],
   "source": [
    "# Example custom input (replace values as needed)\n",
    "custom_input = np.array([[90, 42, 43, 20.5, 82.0, 6.5, 200]])  # N,P,K,temp,humidity,ph,rainfall\n",
    "\n",
    "# Scale input using the same scaler\n",
    "custom_scaled = scaler.transform(custom_input)\n",
    "\n",
    "# Predict\n",
    "custom_pred = model.predict(custom_scaled)\n",
    "predicted_crop = le.inverse_transform([np.argmax(custom_pred)])\n",
    "print(\"Recommended Crop:\", predicted_crop[0])\n"
   ]
  },
  {
   "cell_type": "code",
   "execution_count": 50,
   "id": "a3f1b1a5",
   "metadata": {},
   "outputs": [],
   "source": [
    "model.save(\"crop_recommendation_model.h5\")"
   ]
  },
  {
   "cell_type": "code",
   "execution_count": null,
   "id": "440150d1",
   "metadata": {},
   "outputs": [],
   "source": []
  }
 ],
 "metadata": {
  "kernelspec": {
   "display_name": "tensorflow",
   "language": "python",
   "name": "python3"
  },
  "language_info": {
   "codemirror_mode": {
    "name": "ipython",
    "version": 3
   },
   "file_extension": ".py",
   "mimetype": "text/x-python",
   "name": "python",
   "nbconvert_exporter": "python",
   "pygments_lexer": "ipython3",
   "version": "3.9.18"
  }
 },
 "nbformat": 4,
 "nbformat_minor": 5
}
